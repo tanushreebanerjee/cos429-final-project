{
 "cells": [
  {
   "cell_type": "code",
   "execution_count": 1,
   "metadata": {},
   "outputs": [],
   "source": [
    "import pandas as pd\n",
    "import configs\n",
    "import json\n",
    "import utilities as utils"
   ]
  },
  {
   "cell_type": "code",
   "execution_count": 2,
   "metadata": {},
   "outputs": [],
   "source": [
    "val_df = pd.read_csv(f'{configs.DATASET_DIR}/validate.csv')"
   ]
  },
  {
   "cell_type": "code",
   "execution_count": 3,
   "metadata": {},
   "outputs": [],
   "source": [
    "with open(f\"{configs.DATASET_DIR}/validate.json\") as f:\n",
    "    val_dict = json.load(f)"
   ]
  },
  {
   "cell_type": "code",
   "execution_count": 4,
   "metadata": {},
   "outputs": [
    {
     "data": {
      "text/html": [
       "<div>\n",
       "<style scoped>\n",
       "    .dataframe tbody tr th:only-of-type {\n",
       "        vertical-align: middle;\n",
       "    }\n",
       "\n",
       "    .dataframe tbody tr th {\n",
       "        vertical-align: top;\n",
       "    }\n",
       "\n",
       "    .dataframe thead th {\n",
       "        text-align: right;\n",
       "    }\n",
       "</style>\n",
       "<table border=\"1\" class=\"dataframe\">\n",
       "  <thead>\n",
       "    <tr style=\"text-align: right;\">\n",
       "      <th></th>\n",
       "      <th>label</th>\n",
       "      <th>youtube_id</th>\n",
       "      <th>time_start</th>\n",
       "      <th>time_end</th>\n",
       "      <th>split</th>\n",
       "    </tr>\n",
       "  </thead>\n",
       "  <tbody>\n",
       "    <tr>\n",
       "      <th>0</th>\n",
       "      <td>javelin throw</td>\n",
       "      <td>--07WQ2iBlw</td>\n",
       "      <td>1</td>\n",
       "      <td>11</td>\n",
       "      <td>validate</td>\n",
       "    </tr>\n",
       "    <tr>\n",
       "      <th>1</th>\n",
       "      <td>flipping pancake</td>\n",
       "      <td>--33Lscn6sk</td>\n",
       "      <td>4</td>\n",
       "      <td>14</td>\n",
       "      <td>validate</td>\n",
       "    </tr>\n",
       "    <tr>\n",
       "      <th>2</th>\n",
       "      <td>playing saxophone</td>\n",
       "      <td>--7VUM9MKg4</td>\n",
       "      <td>136</td>\n",
       "      <td>146</td>\n",
       "      <td>validate</td>\n",
       "    </tr>\n",
       "    <tr>\n",
       "      <th>3</th>\n",
       "      <td>slapping</td>\n",
       "      <td>--7goKgS4kc</td>\n",
       "      <td>15</td>\n",
       "      <td>25</td>\n",
       "      <td>validate</td>\n",
       "    </tr>\n",
       "    <tr>\n",
       "      <th>4</th>\n",
       "      <td>making tea</td>\n",
       "      <td>--7qK_w-g3Y</td>\n",
       "      <td>185</td>\n",
       "      <td>195</td>\n",
       "      <td>validate</td>\n",
       "    </tr>\n",
       "    <tr>\n",
       "      <th>...</th>\n",
       "      <td>...</td>\n",
       "      <td>...</td>\n",
       "      <td>...</td>\n",
       "      <td>...</td>\n",
       "      <td>...</td>\n",
       "    </tr>\n",
       "    <tr>\n",
       "      <th>17722</th>\n",
       "      <td>dancing gangnam style</td>\n",
       "      <td>zyf4BkKrKXY</td>\n",
       "      <td>101</td>\n",
       "      <td>111</td>\n",
       "      <td>validate</td>\n",
       "    </tr>\n",
       "    <tr>\n",
       "      <th>17723</th>\n",
       "      <td>clay pottery making</td>\n",
       "      <td>zyhaT3wPCp8</td>\n",
       "      <td>97</td>\n",
       "      <td>107</td>\n",
       "      <td>validate</td>\n",
       "    </tr>\n",
       "    <tr>\n",
       "      <th>17724</th>\n",
       "      <td>folding clothes</td>\n",
       "      <td>zyloWArlaQ0</td>\n",
       "      <td>0</td>\n",
       "      <td>10</td>\n",
       "      <td>validate</td>\n",
       "    </tr>\n",
       "    <tr>\n",
       "      <th>17725</th>\n",
       "      <td>headbanging</td>\n",
       "      <td>zymA_6jZIz4</td>\n",
       "      <td>1</td>\n",
       "      <td>11</td>\n",
       "      <td>validate</td>\n",
       "    </tr>\n",
       "    <tr>\n",
       "      <th>17726</th>\n",
       "      <td>sled dog racing</td>\n",
       "      <td>zzokQ8DKETs</td>\n",
       "      <td>112</td>\n",
       "      <td>122</td>\n",
       "      <td>validate</td>\n",
       "    </tr>\n",
       "  </tbody>\n",
       "</table>\n",
       "<p>17727 rows × 5 columns</p>\n",
       "</div>"
      ],
      "text/plain": [
       "                       label   youtube_id  time_start  time_end     split\n",
       "0              javelin throw  --07WQ2iBlw           1        11  validate\n",
       "1           flipping pancake  --33Lscn6sk           4        14  validate\n",
       "2          playing saxophone  --7VUM9MKg4         136       146  validate\n",
       "3                   slapping  --7goKgS4kc          15        25  validate\n",
       "4                 making tea  --7qK_w-g3Y         185       195  validate\n",
       "...                      ...          ...         ...       ...       ...\n",
       "17722  dancing gangnam style  zyf4BkKrKXY         101       111  validate\n",
       "17723    clay pottery making  zyhaT3wPCp8          97       107  validate\n",
       "17724        folding clothes  zyloWArlaQ0           0        10  validate\n",
       "17725            headbanging  zymA_6jZIz4           1        11  validate\n",
       "17726        sled dog racing  zzokQ8DKETs         112       122  validate\n",
       "\n",
       "[17727 rows x 5 columns]"
      ]
     },
     "execution_count": 4,
     "metadata": {},
     "output_type": "execute_result"
    }
   ],
   "source": [
    "val_df"
   ]
  },
  {
   "cell_type": "code",
   "execution_count": 5,
   "metadata": {},
   "outputs": [
    {
     "data": {
      "text/plain": [
       "{'annotations': {'label': 'javelin throw', 'segment': [1.0, 11.0]},\n",
       " 'duration': 10.0,\n",
       " 'subset': 'validate',\n",
       " 'url': 'https://www.youtube.com/watch?v=--07WQ2iBlw'}"
      ]
     },
     "execution_count": 5,
     "metadata": {},
     "output_type": "execute_result"
    }
   ],
   "source": [
    "val_dict[list(val_dict.keys())[0]]"
   ]
  },
  {
   "cell_type": "code",
   "execution_count": 6,
   "metadata": {},
   "outputs": [],
   "source": [
    "for index, row in val_df.iterrows():\n",
    "    url = f\"https://www.youtube.com/watch?v={row['youtube_id']}\"\n",
    "    \n",
    "    highest_magnitude_flow_frame, highest_flow, flow_plot = utils.get_max_flow_frame(url)\n",
    "    \n",
    "    \n",
    "    "
   ]
  }
 ],
 "metadata": {
  "kernelspec": {
   "display_name": "pytorchvideo",
   "language": "python",
   "name": "python3"
  },
  "language_info": {
   "codemirror_mode": {
    "name": "ipython",
    "version": 3
   },
   "file_extension": ".py",
   "mimetype": "text/x-python",
   "name": "python",
   "nbconvert_exporter": "python",
   "pygments_lexer": "ipython3",
   "version": "3.7.16"
  },
  "orig_nbformat": 4
 },
 "nbformat": 4,
 "nbformat_minor": 2
}
