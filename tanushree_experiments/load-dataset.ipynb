{
 "cells": [
  {
   "cell_type": "code",
   "execution_count": null,
   "metadata": {},
   "outputs": [],
   "source": [
    "import pandas as pd\n",
    "import configs\n",
    "import json\n",
    "import utilities as utils\n",
    "from PIL import Image\n",
    "import importlib \n",
    "importlib.reload(utils)\n",
    "importlib.reload(configs)"
   ]
  },
  {
   "cell_type": "code",
   "execution_count": 49,
   "metadata": {},
   "outputs": [],
   "source": [
    "df = pd.read_csv(f'{configs.DATASET_DIR}/validate.csv')\n",
    "\n",
    "# shuffle the dataset\n",
    "df = df.sample(frac=1, random_state=configs.RANDOM_SEED + 1).reset_index(drop=True)\n",
    "\n",
    "val_df = df.head(1)\n",
    "test_df = df.tail(100)\n",
    "\n"
   ]
  },
  {
   "cell_type": "code",
   "execution_count": 50,
   "metadata": {},
   "outputs": [],
   "source": [
    "with open(f\"{configs.DATASET_DIR}/validate.json\") as f:\n",
    "    val_dict = json.load(f)"
   ]
  },
  {
   "cell_type": "code",
   "execution_count": 51,
   "metadata": {},
   "outputs": [
    {
     "data": {
      "text/plain": [
       "'https://www.youtube.com/watch?v=--07WQ2iBlw'"
      ]
     },
     "execution_count": 51,
     "metadata": {},
     "output_type": "execute_result"
    }
   ],
   "source": [
    "val_dict['--07WQ2iBlw']['url']"
   ]
  },
  {
   "cell_type": "code",
   "execution_count": 52,
   "metadata": {},
   "outputs": [],
   "source": [
    "url = \"https://www.youtube.com/watch?v=PfP2NE7glKg\""
   ]
  },
  {
   "cell_type": "code",
   "execution_count": 42,
   "metadata": {},
   "outputs": [
    {
     "name": "stdout",
     "output_type": "stream",
     "text": [
      "[youtube] Extracting URL: https://www.youtube.com/watch?v=PfP2NE7glKg\n",
      "[youtube] PfP2NE7glKg: Downloading webpage\n",
      "[youtube] PfP2NE7glKg: Downloading android player API JSON\n",
      "[youtube] PfP2NE7glKg: Downloading MPD manifest\n"
     ]
    },
    {
     "name": "stderr",
     "output_type": "stream",
     "text": [
      "[dash @ 0x7fe43fc49bc0] Error when loading first fragment of playlist\n",
      "OpenCV: Couldn't read video stream from file \"https://manifest.googlevideo.com/api/manifest/dash/expire/1682822244/ei/BIBNZN-tEsTr8wSBnYGYBA/ip/140.180.240.4/id/3df3f6344ee094a8/source/youtube/requiressl/yes/playback_host/rr3---sn-ab5l6nrd.googlevideo.com/mh/Wu/mm/31%2C29/mn/sn-ab5l6nrd%2Csn-ab5sznzk/ms/au%2Crdu/mv/m/mvi/3/pl/16/tx/24489378/txs/24489374%2C24489375%2C24489376%2C24489377%2C24489378/hfr/all/as/fmp4_audio_clear%2Cwebm_audio_clear%2Cwebm2_audio_clear%2Cfmp4_sd_hd_clear%2Cwebm2_sd_hd_clear/initcwndbps/1695000/vprv/1/mt/1682800145/fvip/4/keepalive/yes/fexp/24007246/itag/0/sparams/expire%2Cei%2Cip%2Cid%2Csource%2Crequiressl%2Ctx%2Ctxs%2Chfr%2Cas%2Cvprv%2Citag/sig/AOq0QJ8wRAIgWQ5ZxbHgxy1I_OXnJmZC9rjBN0qMCTKbzV6_86FTnIsCIAT9LAucjk9GoMFxbHmEEUR1c6RBh75DSZ5A_hsyj3W5/lsparams/playback_host%2Cmh%2Cmm%2Cmn%2Cms%2Cmv%2Cmvi%2Cpl%2Cinitcwndbps/lsig/AG3C_xAwRAIgTAE83vIq4uycqEoFZMr20eAClUb9D3IKm15S96Za9wICIGFRlsl6GmTflu4eKf2gtOcy9b4bCRmB_tqb1k_O8FQw\"\n",
      "[ERROR:0@2316.055] global cap.cpp:166 open VIDEOIO(CV_IMAGES): raised OpenCV exception:\n",
      "\n",
      "OpenCV(4.7.0) /Users/runner/work/opencv-python/opencv-python/opencv/modules/videoio/src/cap_images.cpp:235: error: (-5:Bad argument) CAP_IMAGES: error, expected '0?[1-9][du]' pattern, got: https://manifest.googlevideo.com/api/manifest/dash/expire/1682822244/ei/BIBNZN-tEsTr8wSBnYGYBA/ip/140.180.240.4/id/3df3f6344ee094a8/source/youtube/requiressl/yes/playback_host/rr3---sn-ab5l6nrd.googlevideo.com/mh/Wu/mm/31%2C29/mn/sn-ab5l6nrd%2Csn-ab5sznzk/ms/au%2Crdu/mv/m/mvi/3/pl/16/tx/24489378/txs/24489374%2C24489375%2C24489376%2C24489377%2C24489378/hfr/all/as/fmp4_audio_clear%2Cwebm_audio_clear%2Cwebm2_audio_clear%2Cfmp4_sd_hd_clear%2Cwebm2_sd_hd_clear/initcwndbps/1695000/vprv/1/mt/1682800145/fvip/4/keepalive/yes/fexp/24007246/itag/0/sparams/expire%2Cei%2Cip%2Cid%2Csource%2Crequiressl%2Ctx%2Ctxs%2Chfr%2Cas%2Cvprv%2Citag/sig/AOq0QJ8wRAIgWQ5ZxbHgxy1I_OXnJmZC9rjBN0qMCTKbzV6_86FTnIsCIAT9LAucjk9GoMFxbHmEEUR1c6RBh75DSZ5A_hsyj3W5/lsparams/playback_host%2Cmh%2Cmm%2Cmn%2Cms%2Cmv%2Cmvi%2Cpl%2Cinitcwndbps/lsig/AG3C_xAwRAIgTAE83vIq4uycqEoFZMr20eAClUb9D3IKm15S96Za9wICIGFRlsl6GmTflu4eKf2gtOcy9b4bCRmB_tqb1k_O8FQw in function 'icvExtractPattern'\n",
      "\n",
      "\n"
     ]
    },
    {
     "ename": "error",
     "evalue": "OpenCV(4.7.0) /Users/runner/work/opencv-python/opencv-python/opencv/modules/imgproc/src/color.cpp:182: error: (-215:Assertion failed) !_src.empty() in function 'cvtColor'\n",
     "output_type": "error",
     "traceback": [
      "\u001b[0;31m---------------------------------------------------------------------------\u001b[0m",
      "\u001b[0;31merror\u001b[0m                                     Traceback (most recent call last)",
      "\u001b[0;32m/var/folders/db/rmz7fksj6jgc90cyny2y5jg40000gn/T/ipykernel_12252/2169526869.py\u001b[0m in \u001b[0;36m<module>\u001b[0;34m\u001b[0m\n\u001b[0;32m----> 1\u001b[0;31m \u001b[0mhighest_magnitude_flow_frame\u001b[0m\u001b[0;34m,\u001b[0m \u001b[0mhighest_flow\u001b[0m\u001b[0;34m,\u001b[0m \u001b[0mflow_plot\u001b[0m \u001b[0;34m=\u001b[0m \u001b[0mutils\u001b[0m\u001b[0;34m.\u001b[0m\u001b[0mget_max_flow_frame\u001b[0m\u001b[0;34m(\u001b[0m\u001b[0murl\u001b[0m\u001b[0;34m)\u001b[0m\u001b[0;34m\u001b[0m\u001b[0;34m\u001b[0m\u001b[0m\n\u001b[0m",
      "\u001b[0;32m~/Desktop/COS429/cos429-final-project/utils/utilities.py\u001b[0m in \u001b[0;36mget_max_flow_frame\u001b[0;34m(url)\u001b[0m\n\u001b[1;32m     24\u001b[0m     \u001b[0mcap\u001b[0m \u001b[0;34m=\u001b[0m \u001b[0mcap_from_youtube\u001b[0m\u001b[0;34m(\u001b[0m\u001b[0murl\u001b[0m\u001b[0;34m)\u001b[0m\u001b[0;34m\u001b[0m\u001b[0;34m\u001b[0m\u001b[0m\n\u001b[1;32m     25\u001b[0m     \u001b[0mret\u001b[0m\u001b[0;34m,\u001b[0m \u001b[0mframe1\u001b[0m \u001b[0;34m=\u001b[0m \u001b[0mcap\u001b[0m\u001b[0;34m.\u001b[0m\u001b[0mread\u001b[0m\u001b[0;34m(\u001b[0m\u001b[0;34m)\u001b[0m\u001b[0;34m\u001b[0m\u001b[0;34m\u001b[0m\u001b[0m\n\u001b[0;32m---> 26\u001b[0;31m     \u001b[0mprvs\u001b[0m \u001b[0;34m=\u001b[0m \u001b[0mcv\u001b[0m\u001b[0;34m.\u001b[0m\u001b[0mcvtColor\u001b[0m\u001b[0;34m(\u001b[0m\u001b[0mframe1\u001b[0m\u001b[0;34m,\u001b[0m \u001b[0mcv\u001b[0m\u001b[0;34m.\u001b[0m\u001b[0mCOLOR_BGR2GRAY\u001b[0m\u001b[0;34m)\u001b[0m\u001b[0;34m\u001b[0m\u001b[0;34m\u001b[0m\u001b[0m\n\u001b[0m\u001b[1;32m     27\u001b[0m     \u001b[0mhsv\u001b[0m \u001b[0;34m=\u001b[0m \u001b[0mnp\u001b[0m\u001b[0;34m.\u001b[0m\u001b[0mzeros_like\u001b[0m\u001b[0;34m(\u001b[0m\u001b[0mframe1\u001b[0m\u001b[0;34m)\u001b[0m\u001b[0;34m\u001b[0m\u001b[0;34m\u001b[0m\u001b[0m\n\u001b[1;32m     28\u001b[0m     \u001b[0mhsv\u001b[0m\u001b[0;34m[\u001b[0m\u001b[0;34m...\u001b[0m\u001b[0;34m,\u001b[0m \u001b[0;36m1\u001b[0m\u001b[0;34m]\u001b[0m \u001b[0;34m=\u001b[0m \u001b[0;36m255\u001b[0m\u001b[0;34m\u001b[0m\u001b[0;34m\u001b[0m\u001b[0m\n",
      "\u001b[0;31merror\u001b[0m: OpenCV(4.7.0) /Users/runner/work/opencv-python/opencv-python/opencv/modules/imgproc/src/color.cpp:182: error: (-215:Assertion failed) !_src.empty() in function 'cvtColor'\n"
     ]
    }
   ],
   "source": [
    "highest_magnitude_flow_frame, highest_flow, flow_plot = utils.get_max_flow_frame(url)"
   ]
  },
  {
   "cell_type": "code",
   "execution_count": 53,
   "metadata": {},
   "outputs": [
    {
     "data": {
      "text/html": [
       "<div>\n",
       "<style scoped>\n",
       "    .dataframe tbody tr th:only-of-type {\n",
       "        vertical-align: middle;\n",
       "    }\n",
       "\n",
       "    .dataframe tbody tr th {\n",
       "        vertical-align: top;\n",
       "    }\n",
       "\n",
       "    .dataframe thead th {\n",
       "        text-align: right;\n",
       "    }\n",
       "</style>\n",
       "<table border=\"1\" class=\"dataframe\">\n",
       "  <thead>\n",
       "    <tr style=\"text-align: right;\">\n",
       "      <th></th>\n",
       "      <th>label</th>\n",
       "      <th>youtube_id</th>\n",
       "      <th>time_start</th>\n",
       "      <th>time_end</th>\n",
       "      <th>split</th>\n",
       "    </tr>\n",
       "  </thead>\n",
       "  <tbody>\n",
       "    <tr>\n",
       "      <th>0</th>\n",
       "      <td>golf putting</td>\n",
       "      <td>e1ylcALVcHE</td>\n",
       "      <td>67</td>\n",
       "      <td>77</td>\n",
       "      <td>validate</td>\n",
       "    </tr>\n",
       "  </tbody>\n",
       "</table>\n",
       "</div>"
      ],
      "text/plain": [
       "          label   youtube_id  time_start  time_end     split\n",
       "0  golf putting  e1ylcALVcHE          67        77  validate"
      ]
     },
     "execution_count": 53,
     "metadata": {},
     "output_type": "execute_result"
    }
   ],
   "source": [
    "val_df"
   ]
  },
  {
   "cell_type": "code",
   "execution_count": 56,
   "metadata": {},
   "outputs": [
    {
     "name": "stdout",
     "output_type": "stream",
     "text": [
      "[youtube] Extracting URL: https://www.youtube.com/watch?v=e1ylcALVcHE\n",
      "[youtube] e1ylcALVcHE: Downloading webpage\n",
      "[youtube] e1ylcALVcHE: Downloading android player API JSON\n"
     ]
    },
    {
     "name": "stderr",
     "output_type": "stream",
     "text": [
      "[tls @ 0x7fe43fa88540] Error in the pull function.\n",
      "[tls @ 0x7fe43fa88540] IO error: Operation timed out\n",
      "[tls @ 0x7fe43fa88540] The specified session has been invalidated for some reason.\n",
      "[tls @ 0x7fe43fa88540] The specified session has been invalidated for some reason.\n"
     ]
    },
    {
     "name": "stdout",
     "output_type": "stream",
     "text": [
      "No frames grabbed!\n"
     ]
    },
    {
     "ename": "AttributeError",
     "evalue": "'numpy.ndarray' object has no attribute 'save'",
     "output_type": "error",
     "traceback": [
      "\u001b[0;31m---------------------------------------------------------------------------\u001b[0m",
      "\u001b[0;31mAttributeError\u001b[0m                            Traceback (most recent call last)",
      "\u001b[0;32m/var/folders/db/rmz7fksj6jgc90cyny2y5jg40000gn/T/ipykernel_12252/3840327678.py\u001b[0m in \u001b[0;36m<module>\u001b[0;34m\u001b[0m\n\u001b[1;32m     10\u001b[0m \u001b[0;34m\u001b[0m\u001b[0m\n\u001b[1;32m     11\u001b[0m     \u001b[0;31m# Save the frame\u001b[0m\u001b[0;34m\u001b[0m\u001b[0;34m\u001b[0m\u001b[0;34m\u001b[0m\u001b[0m\n\u001b[0;32m---> 12\u001b[0;31m     \u001b[0mhighest_magnitude_flow_frame\u001b[0m\u001b[0;34m.\u001b[0m\u001b[0msave\u001b[0m\u001b[0;34m(\u001b[0m\u001b[0;34mf\"{configs.DATASET_DIR}/max-optical-flow/{youtube_id}.jpg\"\u001b[0m\u001b[0;34m)\u001b[0m\u001b[0;34m\u001b[0m\u001b[0;34m\u001b[0m\u001b[0m\n\u001b[0m\u001b[1;32m     13\u001b[0m \u001b[0;34m\u001b[0m\u001b[0m\n\u001b[1;32m     14\u001b[0m \u001b[0;34m\u001b[0m\u001b[0m\n",
      "\u001b[0;31mAttributeError\u001b[0m: 'numpy.ndarray' object has no attribute 'save'"
     ]
    }
   ],
   "source": [
    "for index, row in val_df.iterrows():\n",
    "    \n",
    "    youtube_id = row['youtube_id']\n",
    "    \n",
    "    \n",
    "    url = val_dict[youtube_id]['url']\n",
    "    \n",
    "\n",
    "    highest_magnitude_flow_frame, highest_flow, flow_plot = utils.get_max_flow_frame(url)\n",
    "    \n",
    "    # Save the frame\n",
    "    highest_magnitude_flow_frame.save(f\"{configs.DATASET_DIR}/max-optical-flow/{youtube_id}.jpg\")\n",
    "    \n",
    "    \n",
    "    \n",
    "    "
   ]
  }
 ],
 "metadata": {
  "kernelspec": {
   "display_name": "pytorchvideo",
   "language": "python",
   "name": "python3"
  },
  "language_info": {
   "codemirror_mode": {
    "name": "ipython",
    "version": 3
   },
   "file_extension": ".py",
   "mimetype": "text/x-python",
   "name": "python",
   "nbconvert_exporter": "python",
   "pygments_lexer": "ipython3",
   "version": "3.7.16"
  },
  "orig_nbformat": 4
 },
 "nbformat": 4,
 "nbformat_minor": 2
}
